{
  "nbformat": 4,
  "nbformat_minor": 0,
  "metadata": {
    "colab": {
      "name": "Programming_For_BigData_Lab2.ipynb",
      "provenance": []
    },
    "kernelspec": {
      "name": "python3",
      "display_name": "Python 3"
    },
    "language_info": {
      "name": "python"
    }
  },
  "cells": [
    {
      "cell_type": "code",
      "execution_count": 1,
      "metadata": {
        "colab": {
          "base_uri": "https://localhost:8080/"
        },
        "id": "XHwuhSLAIT0o",
        "outputId": "4cf3a7ce-139c-45b9-e37c-10433620f436"
      },
      "outputs": [
        {
          "output_type": "stream",
          "name": "stdout",
          "text": [
            "--2022-02-17 19:24:22--  https://archive.ics.uci.edu/ml/machine-learning-databases/iris/iris.data\n",
            "Resolving archive.ics.uci.edu (archive.ics.uci.edu)... 128.195.10.252\n",
            "Connecting to archive.ics.uci.edu (archive.ics.uci.edu)|128.195.10.252|:443... connected.\n",
            "HTTP request sent, awaiting response... 200 OK\n",
            "Length: 4551 (4.4K) [application/x-httpd-php]\n",
            "Saving to: ‘iris.data’\n",
            "\n",
            "iris.data           100%[===================>]   4.44K  --.-KB/s    in 0s      \n",
            "\n",
            "2022-02-17 19:24:22 (323 MB/s) - ‘iris.data’ saved [4551/4551]\n",
            "\n"
          ]
        }
      ],
      "source": [
        "!wget https://archive.ics.uci.edu/ml/machine-learning-databases/iris/iris.data"
      ]
    },
    {
      "cell_type": "code",
      "source": [
        "!wget https://github.com/marloftitsligo/ProgrammingForBigData/raw/main/MapReduceIris/MapReduceIris.py"
      ],
      "metadata": {
        "colab": {
          "base_uri": "https://localhost:8080/"
        },
        "id": "CJNnFGlsJNtK",
        "outputId": "9f4c9e50-9e30-4007-ab6c-a1c5afae6d6b"
      },
      "execution_count": 2,
      "outputs": [
        {
          "output_type": "stream",
          "name": "stdout",
          "text": [
            "--2022-02-17 19:24:52--  https://github.com/marloftitsligo/ProgrammingForBigData/raw/main/MapReduceIris/MapReduceIris.py\n",
            "Resolving github.com (github.com)... 140.82.121.3\n",
            "Connecting to github.com (github.com)|140.82.121.3|:443... connected.\n",
            "HTTP request sent, awaiting response... 302 Found\n",
            "Location: https://raw.githubusercontent.com/marloftitsligo/ProgrammingForBigData/main/MapReduceIris/MapReduceIris.py [following]\n",
            "--2022-02-17 19:24:52--  https://raw.githubusercontent.com/marloftitsligo/ProgrammingForBigData/main/MapReduceIris/MapReduceIris.py\n",
            "Resolving raw.githubusercontent.com (raw.githubusercontent.com)... 185.199.108.133, 185.199.109.133, 185.199.110.133, ...\n",
            "Connecting to raw.githubusercontent.com (raw.githubusercontent.com)|185.199.108.133|:443... connected.\n",
            "HTTP request sent, awaiting response... 200 OK\n",
            "Length: 901 [text/plain]\n",
            "Saving to: ‘MapReduceIris.py’\n",
            "\n",
            "MapReduceIris.py    100%[===================>]     901  --.-KB/s    in 0s      \n",
            "\n",
            "2022-02-17 19:24:52 (69.0 MB/s) - ‘MapReduceIris.py’ saved [901/901]\n",
            "\n"
          ]
        }
      ]
    },
    {
      "cell_type": "code",
      "source": [
        "!pip install mrjob"
      ],
      "metadata": {
        "colab": {
          "base_uri": "https://localhost:8080/"
        },
        "id": "KFLthZpIJat_",
        "outputId": "9393a4fa-4d70-4bd3-e200-98d4742d3e4d"
      },
      "execution_count": 4,
      "outputs": [
        {
          "output_type": "stream",
          "name": "stdout",
          "text": [
            "Collecting mrjob\n",
            "  Downloading mrjob-0.7.4-py2.py3-none-any.whl (439 kB)\n",
            "\u001b[?25l\r\u001b[K     |▊                               | 10 kB 24.9 MB/s eta 0:00:01\r\u001b[K     |█▌                              | 20 kB 34.0 MB/s eta 0:00:01\r\u001b[K     |██▎                             | 30 kB 24.8 MB/s eta 0:00:01\r\u001b[K     |███                             | 40 kB 13.2 MB/s eta 0:00:01\r\u001b[K     |███▊                            | 51 kB 12.3 MB/s eta 0:00:01\r\u001b[K     |████▌                           | 61 kB 14.4 MB/s eta 0:00:01\r\u001b[K     |█████▏                          | 71 kB 14.0 MB/s eta 0:00:01\r\u001b[K     |██████                          | 81 kB 11.8 MB/s eta 0:00:01\r\u001b[K     |██████▊                         | 92 kB 13.1 MB/s eta 0:00:01\r\u001b[K     |███████▌                        | 102 kB 13.4 MB/s eta 0:00:01\r\u001b[K     |████████▏                       | 112 kB 13.4 MB/s eta 0:00:01\r\u001b[K     |█████████                       | 122 kB 13.4 MB/s eta 0:00:01\r\u001b[K     |█████████▊                      | 133 kB 13.4 MB/s eta 0:00:01\r\u001b[K     |██████████▍                     | 143 kB 13.4 MB/s eta 0:00:01\r\u001b[K     |███████████▏                    | 153 kB 13.4 MB/s eta 0:00:01\r\u001b[K     |████████████                    | 163 kB 13.4 MB/s eta 0:00:01\r\u001b[K     |████████████▊                   | 174 kB 13.4 MB/s eta 0:00:01\r\u001b[K     |█████████████▍                  | 184 kB 13.4 MB/s eta 0:00:01\r\u001b[K     |██████████████▏                 | 194 kB 13.4 MB/s eta 0:00:01\r\u001b[K     |███████████████                 | 204 kB 13.4 MB/s eta 0:00:01\r\u001b[K     |███████████████▋                | 215 kB 13.4 MB/s eta 0:00:01\r\u001b[K     |████████████████▍               | 225 kB 13.4 MB/s eta 0:00:01\r\u001b[K     |█████████████████▏              | 235 kB 13.4 MB/s eta 0:00:01\r\u001b[K     |██████████████████              | 245 kB 13.4 MB/s eta 0:00:01\r\u001b[K     |██████████████████▋             | 256 kB 13.4 MB/s eta 0:00:01\r\u001b[K     |███████████████████▍            | 266 kB 13.4 MB/s eta 0:00:01\r\u001b[K     |████████████████████▏           | 276 kB 13.4 MB/s eta 0:00:01\r\u001b[K     |████████████████████▉           | 286 kB 13.4 MB/s eta 0:00:01\r\u001b[K     |█████████████████████▋          | 296 kB 13.4 MB/s eta 0:00:01\r\u001b[K     |██████████████████████▍         | 307 kB 13.4 MB/s eta 0:00:01\r\u001b[K     |███████████████████████         | 317 kB 13.4 MB/s eta 0:00:01\r\u001b[K     |███████████████████████▉        | 327 kB 13.4 MB/s eta 0:00:01\r\u001b[K     |████████████████████████▋       | 337 kB 13.4 MB/s eta 0:00:01\r\u001b[K     |█████████████████████████▍      | 348 kB 13.4 MB/s eta 0:00:01\r\u001b[K     |██████████████████████████      | 358 kB 13.4 MB/s eta 0:00:01\r\u001b[K     |██████████████████████████▉     | 368 kB 13.4 MB/s eta 0:00:01\r\u001b[K     |███████████████████████████▋    | 378 kB 13.4 MB/s eta 0:00:01\r\u001b[K     |████████████████████████████▎   | 389 kB 13.4 MB/s eta 0:00:01\r\u001b[K     |█████████████████████████████   | 399 kB 13.4 MB/s eta 0:00:01\r\u001b[K     |█████████████████████████████▉  | 409 kB 13.4 MB/s eta 0:00:01\r\u001b[K     |██████████████████████████████▋ | 419 kB 13.4 MB/s eta 0:00:01\r\u001b[K     |███████████████████████████████▎| 430 kB 13.4 MB/s eta 0:00:01\r\u001b[K     |████████████████████████████████| 439 kB 13.4 MB/s \n",
            "\u001b[?25hRequirement already satisfied: PyYAML>=3.10 in /usr/local/lib/python3.7/dist-packages (from mrjob) (3.13)\n",
            "Installing collected packages: mrjob\n",
            "Successfully installed mrjob-0.7.4\n"
          ]
        }
      ]
    },
    {
      "cell_type": "code",
      "source": [
        "!python MapReduceIris.py iris.data"
      ],
      "metadata": {
        "colab": {
          "base_uri": "https://localhost:8080/"
        },
        "id": "QPZ9_oKZJT6u",
        "outputId": "160ef903-b78a-4a1e-92cf-ef7149c622c0"
      },
      "execution_count": 5,
      "outputs": [
        {
          "output_type": "stream",
          "name": "stdout",
          "text": [
            "No configs found; falling back on auto-configuration\n",
            "No configs specified for inline runner\n",
            "Creating temp directory /tmp/MapReduceIris.root.20220217.192600.979689\n",
            "Running step 1 of 1...\n",
            "job output is in /tmp/MapReduceIris.root.20220217.192600.979689/output\n",
            "Streaming final output from /tmp/MapReduceIris.root.20220217.192600.979689/output...\n",
            "\"setosa sepal width avg\"\t3.418\n",
            "Removing temp directory /tmp/MapReduceIris.root.20220217.192600.979689...\n"
          ]
        }
      ]
    },
    {
      "cell_type": "code",
      "source": [
        "from mrjob.job import MRJob\n",
        "from mrjob.step import MRStep\n",
        "import re"
      ],
      "metadata": {
        "id": "dUpUZGy3KAuS"
      },
      "execution_count": 7,
      "outputs": []
    },
    {
      "cell_type": "code",
      "source": [
        "DATA_RE = re.compile(r\"[\\w.-]+\")"
      ],
      "metadata": {
        "id": "BQWYE1rNKJ4r"
      },
      "execution_count": 8,
      "outputs": []
    },
    {
      "cell_type": "code",
      "source": [
        "%%file mrprob2_4.py\n",
        "from mrjob.job import MRJob\n",
        "from mrjob.step import MRStep\n",
        "import re\n",
        "\n",
        "DATA_RE = re.compile(r\"[\\w.-]+\")\n",
        "\n",
        "class MRProb2_4(MRJob):\n",
        "\n",
        "\n",
        "    def steps(self):\n",
        "        return [\n",
        "            MRStep(mapper=self.mapper_get_sepW_setosa,\n",
        "                   reducer=self.reducer_get_avg)\n",
        "        ]\n",
        "\n",
        "    def mapper_get_sepW_setosa(self, _, line):\n",
        "        # yield each petal width\n",
        "        data = DATA_RE.findall(line)\n",
        "        if \"Iris-virginica\" in data:\n",
        "            sep_W = float(data[1])\n",
        "            yield (\"sepal width\", sep_W)\n",
        "\n",
        "    def reducer_get_avg(self, key, values):\n",
        "        # get max of the petal widths\n",
        "        size, total = 0, 0\n",
        "        for val in values:\n",
        "            size += 1\n",
        "            total += val\n",
        "        yield (\"virginica sepal width avg\", round(total,1) / size)\n",
        "if __name__ == '__main__':\n",
        "    MRProb2_4.run()"
      ],
      "metadata": {
        "colab": {
          "base_uri": "https://localhost:8080/"
        },
        "id": "HSliK09TJ_Ep",
        "outputId": "37d0c595-81c1-4019-a21d-ca28169e7d5a"
      },
      "execution_count": 13,
      "outputs": [
        {
          "output_type": "stream",
          "name": "stdout",
          "text": [
            "Writing mrprob2_4.py\n"
          ]
        }
      ]
    },
    {
      "cell_type": "code",
      "source": [
        "!python mrprob2_4.py iris.data"
      ],
      "metadata": {
        "colab": {
          "base_uri": "https://localhost:8080/"
        },
        "id": "LDv1PiuHKUCD",
        "outputId": "3b843b8a-48d2-4c45-ab7c-a6bea38c64ab"
      },
      "execution_count": 15,
      "outputs": [
        {
          "output_type": "stream",
          "name": "stdout",
          "text": [
            "No configs found; falling back on auto-configuration\n",
            "No configs specified for inline runner\n",
            "Creating temp directory /tmp/mrprob2_4.root.20220217.203601.925057\n",
            "Running step 1 of 1...\n",
            "job output is in /tmp/mrprob2_4.root.20220217.203601.925057/output\n",
            "Streaming final output from /tmp/mrprob2_4.root.20220217.203601.925057/output...\n",
            "\"virginica sepal width avg\"\t2.9739999999999998\n",
            "Removing temp directory /tmp/mrprob2_4.root.20220217.203601.925057...\n"
          ]
        }
      ]
    }
  ]
}