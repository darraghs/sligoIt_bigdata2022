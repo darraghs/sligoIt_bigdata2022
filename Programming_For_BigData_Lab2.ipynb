{
  "nbformat": 4,
  "nbformat_minor": 0,
  "metadata": {
    "colab": {
      "name": "Programming_For_BigData_Lab2.ipynb",
      "provenance": [],
      "collapsed_sections": [],
      "authorship_tag": "ABX9TyNrODu/imZzotifhL8li+2W",
      "include_colab_link": true
    },
    "kernelspec": {
      "name": "python3",
      "display_name": "Python 3"
    },
    "language_info": {
      "name": "python"
    }
  },
  "cells": [
    {
      "cell_type": "markdown",
      "metadata": {
        "id": "view-in-github",
        "colab_type": "text"
      },
      "source": [
        "<a href=\"https://colab.research.google.com/github/darraghs/sligoIt_bigdata2022/blob/main/Programming_For_BigData_Lab2.ipynb\" target=\"_parent\"><img src=\"https://colab.research.google.com/assets/colab-badge.svg\" alt=\"Open In Colab\"/></a>"
      ]
    },
    {
      "cell_type": "code",
      "execution_count": 1,
      "metadata": {
        "colab": {
          "base_uri": "https://localhost:8080/"
        },
        "id": "XHwuhSLAIT0o",
        "outputId": "3b074c65-910d-4d4f-9789-6e1911eaabe7"
      },
      "outputs": [
        {
          "output_type": "stream",
          "name": "stdout",
          "text": [
            "--2022-02-21 20:28:06--  https://archive.ics.uci.edu/ml/machine-learning-databases/iris/iris.data\n",
            "Resolving archive.ics.uci.edu (archive.ics.uci.edu)... 128.195.10.252\n",
            "Connecting to archive.ics.uci.edu (archive.ics.uci.edu)|128.195.10.252|:443... connected.\n",
            "HTTP request sent, awaiting response... 200 OK\n",
            "Length: 4551 (4.4K) [application/x-httpd-php]\n",
            "Saving to: ‘iris.data’\n",
            "\n",
            "iris.data           100%[===================>]   4.44K  --.-KB/s    in 0s      \n",
            "\n",
            "2022-02-21 20:28:07 (95.8 MB/s) - ‘iris.data’ saved [4551/4551]\n",
            "\n"
          ]
        }
      ],
      "source": [
        "!wget https://archive.ics.uci.edu/ml/machine-learning-databases/iris/iris.data"
      ]
    },
    {
      "cell_type": "code",
      "source": [
        "!head -n 5 iris.data"
      ],
      "metadata": {
        "colab": {
          "base_uri": "https://localhost:8080/"
        },
        "id": "RTcj1FHuX4CO",
        "outputId": "3938f5db-056c-4cd8-eb4e-b4f0df2dfd9b"
      },
      "execution_count": 2,
      "outputs": [
        {
          "output_type": "stream",
          "name": "stdout",
          "text": [
            "5.1,3.5,1.4,0.2,Iris-setosa\n",
            "4.9,3.0,1.4,0.2,Iris-setosa\n",
            "4.7,3.2,1.3,0.2,Iris-setosa\n",
            "4.6,3.1,1.5,0.2,Iris-setosa\n",
            "5.0,3.6,1.4,0.2,Iris-setosa\n"
          ]
        }
      ]
    },
    {
      "cell_type": "code",
      "source": [
        "!wget https://github.com/marloftitsligo/ProgrammingForBigData/raw/main/MapReduceIris/MapReduceIris.py"
      ],
      "metadata": {
        "colab": {
          "base_uri": "https://localhost:8080/"
        },
        "id": "CJNnFGlsJNtK",
        "outputId": "a7b3fb54-7186-4e8f-b57b-6171d6fc3d3b"
      },
      "execution_count": 3,
      "outputs": [
        {
          "output_type": "stream",
          "name": "stdout",
          "text": [
            "--2022-02-21 20:28:07--  https://github.com/marloftitsligo/ProgrammingForBigData/raw/main/MapReduceIris/MapReduceIris.py\n",
            "Resolving github.com (github.com)... 140.82.114.3\n",
            "Connecting to github.com (github.com)|140.82.114.3|:443... connected.\n",
            "HTTP request sent, awaiting response... 302 Found\n",
            "Location: https://raw.githubusercontent.com/marloftitsligo/ProgrammingForBigData/main/MapReduceIris/MapReduceIris.py [following]\n",
            "--2022-02-21 20:28:08--  https://raw.githubusercontent.com/marloftitsligo/ProgrammingForBigData/main/MapReduceIris/MapReduceIris.py\n",
            "Resolving raw.githubusercontent.com (raw.githubusercontent.com)... 185.199.108.133, 185.199.109.133, 185.199.110.133, ...\n",
            "Connecting to raw.githubusercontent.com (raw.githubusercontent.com)|185.199.108.133|:443... connected.\n",
            "HTTP request sent, awaiting response... 200 OK\n",
            "Length: 901 [text/plain]\n",
            "Saving to: ‘MapReduceIris.py’\n",
            "\n",
            "MapReduceIris.py    100%[===================>]     901  --.-KB/s    in 0s      \n",
            "\n",
            "2022-02-21 20:28:08 (33.2 MB/s) - ‘MapReduceIris.py’ saved [901/901]\n",
            "\n"
          ]
        }
      ]
    },
    {
      "cell_type": "code",
      "source": [
        "!pip install mrjob"
      ],
      "metadata": {
        "colab": {
          "base_uri": "https://localhost:8080/"
        },
        "id": "KFLthZpIJat_",
        "outputId": "d6bc4c60-407b-4986-86f3-a326015bec21"
      },
      "execution_count": 4,
      "outputs": [
        {
          "output_type": "stream",
          "name": "stdout",
          "text": [
            "Requirement already satisfied: mrjob in /usr/local/lib/python3.7/dist-packages (0.7.4)\n",
            "Requirement already satisfied: PyYAML>=3.10 in /usr/local/lib/python3.7/dist-packages (from mrjob) (3.13)\n"
          ]
        }
      ]
    },
    {
      "cell_type": "code",
      "source": [
        "!python MapReduceIris.py iris.data"
      ],
      "metadata": {
        "colab": {
          "base_uri": "https://localhost:8080/"
        },
        "id": "QPZ9_oKZJT6u",
        "outputId": "e5cdf5c8-bc4f-4fb7-ee86-df645a848aa7"
      },
      "execution_count": 5,
      "outputs": [
        {
          "output_type": "stream",
          "name": "stdout",
          "text": [
            "No configs found; falling back on auto-configuration\n",
            "No configs specified for inline runner\n",
            "Creating temp directory /tmp/MapReduceIris.root.20220221.202812.201253\n",
            "Running step 1 of 1...\n",
            "job output is in /tmp/MapReduceIris.root.20220221.202812.201253/output\n",
            "Streaming final output from /tmp/MapReduceIris.root.20220221.202812.201253/output...\n",
            "\"setosa sepal width avg\"\t3.418\n",
            "Removing temp directory /tmp/MapReduceIris.root.20220221.202812.201253...\n"
          ]
        }
      ]
    },
    {
      "cell_type": "code",
      "source": [
        "from mrjob.job import MRJob\n",
        "from mrjob.step import MRStep\n",
        "import re"
      ],
      "metadata": {
        "id": "dUpUZGy3KAuS"
      },
      "execution_count": 6,
      "outputs": []
    },
    {
      "cell_type": "code",
      "source": [
        "DATA_RE = re.compile(r\"[\\w.-]+\")"
      ],
      "metadata": {
        "id": "BQWYE1rNKJ4r"
      },
      "execution_count": 7,
      "outputs": []
    },
    {
      "cell_type": "code",
      "source": [
        "%%file mrprob2_4.py\n",
        "from mrjob.job import MRJob\n",
        "from mrjob.step import MRStep\n",
        "import re\n",
        "\n",
        "DATA_RE = re.compile(r\"[\\w.-]+\")\n",
        "\n",
        "class MRProb2_4(MRJob):\n",
        "\n",
        "\n",
        "    def steps(self):\n",
        "        return [\n",
        "            MRStep(mapper=self.mapper_get_sepW_virginica,\n",
        "                   reducer=self.reducer_get_avg)\n",
        "        ]\n",
        "\n",
        "    def mapper_get_sepW_virginica(self, _, line):\n",
        "        # yield each petal width\n",
        "        data = DATA_RE.findall(line)\n",
        "        if \"Iris-virginica\" in data:\n",
        "            sep_W = float(data[1])\n",
        "            yield (\"sepal width\", sep_W)\n",
        "\n",
        "    def reducer_get_avg(self, key, values):\n",
        "        # get max of the petal widths\n",
        "        size, total = 0, 0\n",
        "        for val in values:\n",
        "            size += 1\n",
        "            total += val\n",
        "        yield (\"virginica sepal width avg\", round(total,1) / size)\n",
        "if __name__ == '__main__':\n",
        "    MRProb2_4.run()"
      ],
      "metadata": {
        "colab": {
          "base_uri": "https://localhost:8080/"
        },
        "id": "HSliK09TJ_Ep",
        "outputId": "8f219055-16db-41a6-9dfe-15acc01f1ecf"
      },
      "execution_count": 8,
      "outputs": [
        {
          "output_type": "stream",
          "name": "stdout",
          "text": [
            "Overwriting mrprob2_4.py\n"
          ]
        }
      ]
    },
    {
      "cell_type": "code",
      "source": [
        "!python mrprob2_4.py iris.data"
      ],
      "metadata": {
        "colab": {
          "base_uri": "https://localhost:8080/"
        },
        "id": "LDv1PiuHKUCD",
        "outputId": "c8afc7b0-250b-46af-c55f-89212f7bb984"
      },
      "execution_count": 9,
      "outputs": [
        {
          "output_type": "stream",
          "name": "stdout",
          "text": [
            "No configs found; falling back on auto-configuration\n",
            "No configs specified for inline runner\n",
            "Creating temp directory /tmp/mrprob2_4.root.20220221.202812.974254\n",
            "Running step 1 of 1...\n",
            "job output is in /tmp/mrprob2_4.root.20220221.202812.974254/output\n",
            "Streaming final output from /tmp/mrprob2_4.root.20220221.202812.974254/output...\n",
            "\"virginica sepal width avg\"\t2.9739999999999998\n",
            "Removing temp directory /tmp/mrprob2_4.root.20220221.202812.974254...\n"
          ]
        }
      ]
    },
    {
      "cell_type": "code",
      "source": [
        "!wget https://archive.ics.uci.edu/ml/machine-learning-databases/ionosphere/ionosphere.data"
      ],
      "metadata": {
        "colab": {
          "base_uri": "https://localhost:8080/"
        },
        "id": "aNvXA2TeOro7",
        "outputId": "f0cd9545-64df-420a-b421-3bbdef62e0e3"
      },
      "execution_count": 10,
      "outputs": [
        {
          "output_type": "stream",
          "name": "stdout",
          "text": [
            "--2022-02-21 20:28:13--  https://archive.ics.uci.edu/ml/machine-learning-databases/ionosphere/ionosphere.data\n",
            "Resolving archive.ics.uci.edu (archive.ics.uci.edu)... 128.195.10.252\n",
            "Connecting to archive.ics.uci.edu (archive.ics.uci.edu)|128.195.10.252|:443... connected.\n",
            "HTTP request sent, awaiting response... 200 OK\n",
            "Length: 76467 (75K) [application/x-httpd-php]\n",
            "Saving to: ‘ionosphere.data’\n",
            "\n",
            "ionosphere.data     100%[===================>]  74.67K  --.-KB/s    in 0.1s    \n",
            "\n",
            "2022-02-21 20:28:13 (737 KB/s) - ‘ionosphere.data’ saved [76467/76467]\n",
            "\n"
          ]
        }
      ]
    },
    {
      "cell_type": "code",
      "source": [
        "!wget https://archive.ics.uci.edu/ml/machine-learning-databases/ionosphere/ionosphere.names"
      ],
      "metadata": {
        "colab": {
          "base_uri": "https://localhost:8080/"
        },
        "id": "9gGeUTdqT0k4",
        "outputId": "6cb3667d-7eda-494f-fa52-9c8c444d89c8"
      },
      "execution_count": 11,
      "outputs": [
        {
          "output_type": "stream",
          "name": "stdout",
          "text": [
            "--2022-02-21 20:28:13--  https://archive.ics.uci.edu/ml/machine-learning-databases/ionosphere/ionosphere.names\n",
            "Resolving archive.ics.uci.edu (archive.ics.uci.edu)... 128.195.10.252\n",
            "Connecting to archive.ics.uci.edu (archive.ics.uci.edu)|128.195.10.252|:443... connected.\n",
            "HTTP request sent, awaiting response... 200 OK\n",
            "Length: 3116 (3.0K) [application/x-httpd-php]\n",
            "Saving to: ‘ionosphere.names’\n",
            "\n",
            "ionosphere.names    100%[===================>]   3.04K  --.-KB/s    in 0s      \n",
            "\n",
            "2022-02-21 20:28:13 (49.1 MB/s) - ‘ionosphere.names’ saved [3116/3116]\n",
            "\n"
          ]
        }
      ]
    },
    {
      "cell_type": "code",
      "source": [
        "!head -n 5 ionosphere.data\n"
      ],
      "metadata": {
        "colab": {
          "base_uri": "https://localhost:8080/"
        },
        "id": "tad7Jm8wTnFp",
        "outputId": "5f4838e6-1740-46e5-c068-e08e692e26a0"
      },
      "execution_count": 12,
      "outputs": [
        {
          "output_type": "stream",
          "name": "stdout",
          "text": [
            "1,0,0.99539,-0.05889,0.85243,0.02306,0.83398,-0.37708,1,0.03760,0.85243,-0.17755,0.59755,-0.44945,0.60536,-0.38223,0.84356,-0.38542,0.58212,-0.32192,0.56971,-0.29674,0.36946,-0.47357,0.56811,-0.51171,0.41078,-0.46168,0.21266,-0.34090,0.42267,-0.54487,0.18641,-0.45300,g\n",
            "1,0,1,-0.18829,0.93035,-0.36156,-0.10868,-0.93597,1,-0.04549,0.50874,-0.67743,0.34432,-0.69707,-0.51685,-0.97515,0.05499,-0.62237,0.33109,-1,-0.13151,-0.45300,-0.18056,-0.35734,-0.20332,-0.26569,-0.20468,-0.18401,-0.19040,-0.11593,-0.16626,-0.06288,-0.13738,-0.02447,b\n",
            "1,0,1,-0.03365,1,0.00485,1,-0.12062,0.88965,0.01198,0.73082,0.05346,0.85443,0.00827,0.54591,0.00299,0.83775,-0.13644,0.75535,-0.08540,0.70887,-0.27502,0.43385,-0.12062,0.57528,-0.40220,0.58984,-0.22145,0.43100,-0.17365,0.60436,-0.24180,0.56045,-0.38238,g\n",
            "1,0,1,-0.45161,1,1,0.71216,-1,0,0,0,0,0,0,-1,0.14516,0.54094,-0.39330,-1,-0.54467,-0.69975,1,0,0,1,0.90695,0.51613,1,1,-0.20099,0.25682,1,-0.32382,1,b\n",
            "1,0,1,-0.02401,0.94140,0.06531,0.92106,-0.23255,0.77152,-0.16399,0.52798,-0.20275,0.56409,-0.00712,0.34395,-0.27457,0.52940,-0.21780,0.45107,-0.17813,0.05982,-0.35575,0.02309,-0.52879,0.03286,-0.65158,0.13290,-0.53206,0.02431,-0.62197,-0.05707,-0.59573,-0.04608,-0.65697,g\n"
          ]
        }
      ]
    },
    {
      "cell_type": "code",
      "source": [
        "!cat ionosphere.names"
      ],
      "metadata": {
        "colab": {
          "base_uri": "https://localhost:8080/"
        },
        "id": "gTaWR5j1T6AO",
        "outputId": "96e72c51-cd45-48bb-f253-594d2ef4533d"
      },
      "execution_count": 13,
      "outputs": [
        {
          "output_type": "stream",
          "name": "stdout",
          "text": [
            "1. Title: Johns Hopkins University Ionosphere database\n",
            "\n",
            "2. Source Information:\n",
            "   -- Donor: Vince Sigillito (vgs@aplcen.apl.jhu.edu)\n",
            "   -- Date: 1989\n",
            "   -- Source: Space Physics Group\n",
            "              Applied Physics Laboratory\n",
            "              Johns Hopkins University\n",
            "              Johns Hopkins Road\n",
            "              Laurel, MD 20723 \n",
            "\n",
            "3. Past Usage:\n",
            "   -- Sigillito, V. G., Wing, S. P., Hutton, L. V., \\& Baker, K. B. (1989).\n",
            "      Classification of radar returns from the ionosphere using neural \n",
            "      networks. Johns Hopkins APL Technical Digest, 10, 262-266.\n",
            "\n",
            "      They investigated using backprop and the perceptron training algorithm\n",
            "      on this database.  Using the first 200 instances for training, which\n",
            "      were carefully split almost 50% positive and 50% negative, they found\n",
            "      that a \"linear\" perceptron attained 90.7%, a \"non-linear\" perceptron\n",
            "      attained 92%, and backprop an average of over 96% accuracy on the \n",
            "      remaining 150 test instances, consisting of 123 \"good\" and only 24 \"bad\"\n",
            "      instances.  (There was a counting error or some mistake somewhere; there\n",
            "      are a total of 351 rather than 350 instances in this domain.) Accuracy\n",
            "      on \"good\" instances was much higher than for \"bad\" instances.  Backprop\n",
            "      was tested with several different numbers of hidden units (in [0,15])\n",
            "      and incremental results were also reported (corresponding to how well\n",
            "      the different variants of backprop did after a periodic number of \n",
            "      epochs).\n",
            "\n",
            "      David Aha (aha@ics.uci.edu) briefly investigated this database.\n",
            "      He found that nearest neighbor attains an accuracy of 92.1%, that\n",
            "      Ross Quinlan's C4 algorithm attains 94.0% (no windowing), and that\n",
            "      IB3 (Aha \\& Kibler, IJCAI-1989) attained 96.7% (parameter settings:\n",
            "      70% and 80% for acceptance and dropping respectively).\n",
            "\n",
            "4. Relevant Information:\n",
            "   This radar data was collected by a system in Goose Bay, Labrador.  This\n",
            "   system consists of a phased array of 16 high-frequency antennas with a\n",
            "   total transmitted power on the order of 6.4 kilowatts.  See the paper\n",
            "   for more details.  The targets were free electrons in the ionosphere.\n",
            "   \"Good\" radar returns are those showing evidence of some type of structure \n",
            "   in the ionosphere.  \"Bad\" returns are those that do not; their signals pass\n",
            "   through the ionosphere.  \n",
            "\n",
            "   Received signals were processed using an autocorrelation function whose\n",
            "   arguments are the time of a pulse and the pulse number.  There were 17\n",
            "   pulse numbers for the Goose Bay system.  Instances in this databse are\n",
            "   described by 2 attributes per pulse number, corresponding to the complex\n",
            "   values returned by the function resulting from the complex electromagnetic\n",
            "   signal.\n",
            "\n",
            "5. Number of Instances: 351\n",
            "\n",
            "6. Number of Attributes: 34 plus the class attribute\n",
            "   -- All 34 predictor attributes are continuous\n",
            "\n",
            "7. Attribute Information:     \n",
            "   -- All 34 are continuous, as described above\n",
            "   -- The 35th attribute is either \"good\" or \"bad\" according to the definition\n",
            "      summarized above.  This is a binary classification task.\n",
            "\n",
            "8. Missing Values: None\n",
            "\n",
            "\n"
          ]
        }
      ]
    },
    {
      "cell_type": "code",
      "source": [
        "!wget https://archive.ics.uci.edu/ml/machine-learning-databases/blood-transfusion/transfusion.names"
      ],
      "metadata": {
        "colab": {
          "base_uri": "https://localhost:8080/"
        },
        "id": "1Wt69_eyVBF6",
        "outputId": "ca05179b-a1e8-4b6d-ff9c-bb02e7ee578a"
      },
      "execution_count": 14,
      "outputs": [
        {
          "output_type": "stream",
          "name": "stdout",
          "text": [
            "--2022-02-21 20:28:14--  https://archive.ics.uci.edu/ml/machine-learning-databases/blood-transfusion/transfusion.names\n",
            "Resolving archive.ics.uci.edu (archive.ics.uci.edu)... 128.195.10.252\n",
            "Connecting to archive.ics.uci.edu (archive.ics.uci.edu)|128.195.10.252|:443... connected.\n",
            "HTTP request sent, awaiting response... 200 OK\n",
            "Length: 3165 (3.1K) [application/x-httpd-php]\n",
            "Saving to: ‘transfusion.names’\n",
            "\n",
            "transfusion.names   100%[===================>]   3.09K  --.-KB/s    in 0s      \n",
            "\n",
            "2022-02-21 20:28:14 (71.1 MB/s) - ‘transfusion.names’ saved [3165/3165]\n",
            "\n"
          ]
        }
      ]
    },
    {
      "cell_type": "code",
      "source": [
        "!cat transfusion.names"
      ],
      "metadata": {
        "colab": {
          "base_uri": "https://localhost:8080/"
        },
        "id": "CroF1XGHVExS",
        "outputId": "4af4e07b-28fd-41e6-bf82-365f0189bdb8"
      },
      "execution_count": 15,
      "outputs": [
        {
          "output_type": "stream",
          "name": "stdout",
          "text": [
            "Title: Blood Transfusion Service Center Data Set\n",
            "\n",
            "Abstract: Data taken from the Blood Transfusion Service Center in Hsin-Chu City \n",
            "in Taiwan -- this is a classification problem.\n",
            "\t\n",
            "\n",
            "-----------------------------------------------------\n",
            "\n",
            "Data Set Characteristics: Multivariate\n",
            "Number of Instances: 748\n",
            "Area: Business\n",
            "Attribute Characteristics: Real\n",
            "Number of Attributes: 5\n",
            "Date Donated: 2008-10-03\n",
            "Associated Tasks: Classification\n",
            "Missing Values? N/A\n",
            "\n",
            "-----------------------------------------------------\n",
            "\n",
            "Source:\n",
            "\n",
            "Original Owner and Donor\n",
            "Prof. I-Cheng Yeh\n",
            "Department of Information Management\n",
            "Chung-Hua University,\n",
            "Hsin Chu, Taiwan 30067, R.O.C.\n",
            "e-mail:icyeh 'at' chu.edu.tw\n",
            "TEL:886-3-5186511\n",
            "\n",
            "Date Donated: October 3, 2008 \n",
            "\n",
            "-----------------------------------------------------\n",
            "\n",
            "Data Set Information:\n",
            "\n",
            "To demonstrate the RFMTC marketing model (a modified version of RFM), this study \n",
            "adopted the donor database of Blood Transfusion Service Center in Hsin-Chu City \n",
            "in Taiwan. The center passes their blood transfusion service bus to one \n",
            "university in Hsin-Chu City to gather blood donated about every three months. To \n",
            "build a FRMTC model, we selected 748 donors at random from the donor database. \n",
            "These 748 donor data, each one included R (Recency - months since last \n",
            "donation), F (Frequency - total number of donation), M (Monetary - total blood \n",
            "donated in c.c.), T (Time - months since first donation), and a binary variable \n",
            "representing whether he/she donated blood in March 2007 (1 stand for donating \n",
            "blood; 0 stands for not donating blood).\n",
            "\n",
            "-----------------------------------------------------\n",
            "\n",
            "Attribute Information:\n",
            "\n",
            "Given is the variable name, variable type, the measurement unit and a brief \n",
            "description. The \"Blood Transfusion Service Center\" is a classification problem. \n",
            "The order of this listing corresponds to the order of numerals along the rows of \n",
            "the database.\n",
            "\n",
            "R (Recency - months since last donation),\n",
            "F (Frequency - total number of donation),\n",
            "M (Monetary - total blood donated in c.c.),\n",
            "T (Time - months since first donation), and\n",
            "a binary variable representing whether he/she donated blood in March 2007 (1 \n",
            "stand for donating blood; 0 stands for not donating blood).\n",
            "\n",
            "\n",
            "Table 1 shows the descriptive statistics of the data. We selected 500 data at \n",
            "random as the training set, and the rest 248 as the testing set.\n",
            "\n",
            "Table 1. Descriptive statistics of the data\n",
            "\n",
            "Variable Data Type Measurement Description min max mean std\n",
            "Recency quantitative Months Input 0.03 74.4 9.74 8.07\n",
            "Frequency quantitative Times Input 1 50 5.51 5.84\n",
            "Monetary quantitative c.c. blood Input 250 12500 1378.68 1459.83\n",
            "Time quantitative Months Input 2.27 98.3 34.42 24.32\n",
            "Whether he/she donated blood in March 2007 binary 1=yes 0=no Output 0 1 1 (24%) 0 (76%)\n",
            "\n",
            "\n",
            "-----------------------------------------------------\n",
            "\n",
            "Citation Request:\n",
            "\n",
            "NOTE: Reuse of this database is unlimited with retention of copyright notice for \n",
            "Prof. I-Cheng Yeh and the following published paper:\n",
            "\n",
            "Yeh, I-Cheng, Yang, King-Jang, and Ting, Tao-Ming, \"Knowledge discovery on RFM \n",
            "model using Bernoulli sequence, \"Expert Systems with Applications, 2008 \n",
            "(doi:10.1016/j.eswa.2008.07.018).\n",
            "\n",
            "\n"
          ]
        }
      ]
    },
    {
      "cell_type": "code",
      "source": [
        "!wget https://archive.ics.uci.edu/ml/machine-learning-databases/blood-transfusion/transfusion.data"
      ],
      "metadata": {
        "colab": {
          "base_uri": "https://localhost:8080/"
        },
        "id": "EKnP-v4sVLbp",
        "outputId": "01a20b3f-0c79-44a9-e06d-33615c511717"
      },
      "execution_count": 16,
      "outputs": [
        {
          "output_type": "stream",
          "name": "stdout",
          "text": [
            "--2022-02-21 20:28:14--  https://archive.ics.uci.edu/ml/machine-learning-databases/blood-transfusion/transfusion.data\n",
            "Resolving archive.ics.uci.edu (archive.ics.uci.edu)... 128.195.10.252\n",
            "Connecting to archive.ics.uci.edu (archive.ics.uci.edu)|128.195.10.252|:443... connected.\n",
            "HTTP request sent, awaiting response... 200 OK\n",
            "Length: 12843 (13K) [application/x-httpd-php]\n",
            "Saving to: ‘transfusion.data’\n",
            "\n",
            "transfusion.data    100%[===================>]  12.54K  --.-KB/s    in 0s      \n",
            "\n",
            "2022-02-21 20:28:14 (87.0 MB/s) - ‘transfusion.data’ saved [12843/12843]\n",
            "\n"
          ]
        }
      ]
    },
    {
      "cell_type": "code",
      "source": [
        "!head -n 5 transfusion.data"
      ],
      "metadata": {
        "colab": {
          "base_uri": "https://localhost:8080/"
        },
        "id": "v23bhEn0VPDN",
        "outputId": "01a0e349-e08f-4b2a-a5c0-9d2b2e58df7c"
      },
      "execution_count": 17,
      "outputs": [
        {
          "output_type": "stream",
          "name": "stdout",
          "text": [
            "Recency (months),Frequency (times),Monetary (c.c. blood),Time (months),\"whether he/she donated blood in March 2007\"\r\n",
            "2 ,50,12500,98 ,1\r\n",
            "0 ,13,3250,28 ,1\r\n",
            "1 ,16,4000,35 ,1\r\n",
            "2 ,20,5000,45 ,1\r\n"
          ]
        }
      ]
    },
    {
      "cell_type": "code",
      "source": [
        "%%file mrprob3_1.py\n",
        "from mrjob.job import MRJob\n",
        "from mrjob.step import MRStep\n",
        "import re\n",
        "\n",
        "DATA_RE = re.compile(r\"[\\w.-]+\")\n",
        "\n",
        "class MRProb3_1(MRJob):\n",
        "\n",
        "\n",
        "    def steps(self):\n",
        "        return [\n",
        "            MRStep(mapper=self.mapper_get_recent_transfusions,\n",
        "                   reducer=self.reducer_get_avg)\n",
        "        ]\n",
        "\n",
        "    def mapper_get_recent_transfusions(self, _, line):\n",
        "        # yield each blood cc\n",
        "        data = DATA_RE.findall(line)\n",
        "        try:\n",
        "          if float(data[0]) == 1:\n",
        "            bloodcc = float(data[2])\n",
        "            yield (\"blood cc\", bloodcc)\n",
        "        except:\n",
        "          pass\n",
        "\n",
        "    def reducer_get_avg(self, key, values):\n",
        "        # get average\n",
        "        size, total = 0, 0\n",
        "        for val in values:\n",
        "            size += 1\n",
        "            total += val\n",
        "        yield (\"blood cc avg\", round(total,1) / size)\n",
        "if __name__ == '__main__':\n",
        "    MRProb3_1.run()"
      ],
      "metadata": {
        "colab": {
          "base_uri": "https://localhost:8080/"
        },
        "id": "wNaAtRL1Vjfn",
        "outputId": "3766e47b-dcca-4f7f-8f20-8e3c9c7b1a3a"
      },
      "execution_count": 18,
      "outputs": [
        {
          "output_type": "stream",
          "name": "stdout",
          "text": [
            "Writing mrprob3_1.py\n"
          ]
        }
      ]
    },
    {
      "cell_type": "code",
      "source": [
        "!python mrprob3_1.py transfusion.data"
      ],
      "metadata": {
        "colab": {
          "base_uri": "https://localhost:8080/"
        },
        "id": "1eCmXSZCcwAq",
        "outputId": "88189be8-621b-42d6-a164-32953d0f86bd"
      },
      "execution_count": 19,
      "outputs": [
        {
          "output_type": "stream",
          "name": "stdout",
          "text": [
            "No configs found; falling back on auto-configuration\n",
            "No configs specified for inline runner\n",
            "Creating temp directory /tmp/mrprob3_1.root.20220221.202815.464025\n",
            "Running step 1 of 1...\n",
            "job output is in /tmp/mrprob3_1.root.20220221.202815.464025/output\n",
            "Streaming final output from /tmp/mrprob3_1.root.20220221.202815.464025/output...\n",
            "\"blood cc avg\"\t3305.5555555555557\n",
            "Removing temp directory /tmp/mrprob3_1.root.20220221.202815.464025...\n"
          ]
        }
      ]
    }
  ]
}